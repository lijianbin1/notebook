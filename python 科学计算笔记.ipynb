{
 "cells": [
  {
   "cell_type": "markdown",
   "id": "51fa1672",
   "metadata": {},
   "source": [
    "markdown使用说明：<https://blog.csdn.net/Dance_sheng/article/details/102662891>\n",
    "\n",
    "各种API文档说明汇总：<https://devdocs.io/>\n",
    "\n",
    "seaborn的API文档说明：<https://seaborn.pydata.org/generated/seaborn.heatmap.html>\n",
    "\n",
    "sns的color_palette以及plt的cmap（_r代表颜色反转）：<https://blog.csdn.net/weixin_41391619/article/details/115719116>"
   ]
  },
  {
   "cell_type": "markdown",
   "id": "7ac8adbb",
   "metadata": {},
   "source": [
    "以下案例中引用数据（预览案例前必须先运行）"
   ]
  },
  {
   "cell_type": "code",
   "execution_count": 1,
   "id": "5d2f3b5f",
   "metadata": {},
   "outputs": [],
   "source": [
    "import pandas as pd\n",
    "\n",
    "titanic = pd.read_csv('./datasets/titanic.csv', index_col=0)  #第一列survived为二分类判断是否存货，一般做分类用\n",
    "titanic['Age'] = titanic['Age'].fillna(titanic['Age'].mean())\n",
    "titanic['Embarked'] = titanic['Embarked'].fillna('S')\n",
    "del titanic['Cabin']\n",
    "\n",
    "adv = pd.read_csv('./datasets/advertorial.csv')  #纯指标，一般做回归用\n",
    "adv = adv.dropna()"
   ]
  },
  {
   "cell_type": "code",
   "execution_count": 2,
   "id": "fd9e8652",
   "metadata": {
    "scrolled": false
   },
   "outputs": [
    {
     "data": {
      "text/html": [
       "<div>\n",
       "<style scoped>\n",
       "    .dataframe tbody tr th:only-of-type {\n",
       "        vertical-align: middle;\n",
       "    }\n",
       "\n",
       "    .dataframe tbody tr th {\n",
       "        vertical-align: top;\n",
       "    }\n",
       "\n",
       "    .dataframe thead th {\n",
       "        text-align: right;\n",
       "    }\n",
       "</style>\n",
       "<table border=\"1\" class=\"dataframe\">\n",
       "  <thead>\n",
       "    <tr style=\"text-align: right;\">\n",
       "      <th></th>\n",
       "      <th>Survived</th>\n",
       "      <th>Pclass</th>\n",
       "      <th>Name</th>\n",
       "      <th>Sex</th>\n",
       "      <th>Age</th>\n",
       "      <th>SibSp</th>\n",
       "      <th>Parch</th>\n",
       "      <th>Ticket</th>\n",
       "      <th>Fare</th>\n",
       "      <th>Embarked</th>\n",
       "    </tr>\n",
       "    <tr>\n",
       "      <th>PassengerId</th>\n",
       "      <th></th>\n",
       "      <th></th>\n",
       "      <th></th>\n",
       "      <th></th>\n",
       "      <th></th>\n",
       "      <th></th>\n",
       "      <th></th>\n",
       "      <th></th>\n",
       "      <th></th>\n",
       "      <th></th>\n",
       "    </tr>\n",
       "  </thead>\n",
       "  <tbody>\n",
       "    <tr>\n",
       "      <th>1</th>\n",
       "      <td>0</td>\n",
       "      <td>3</td>\n",
       "      <td>Braund, Mr. Owen Harris</td>\n",
       "      <td>male</td>\n",
       "      <td>22.0</td>\n",
       "      <td>1</td>\n",
       "      <td>0</td>\n",
       "      <td>A/5 21171</td>\n",
       "      <td>7.25</td>\n",
       "      <td>S</td>\n",
       "    </tr>\n",
       "  </tbody>\n",
       "</table>\n",
       "</div>"
      ],
      "text/plain": [
       "             Survived  Pclass                     Name   Sex   Age  SibSp  \\\n",
       "PassengerId                                                                 \n",
       "1                   0       3  Braund, Mr. Owen Harris  male  22.0      1   \n",
       "\n",
       "             Parch     Ticket  Fare Embarked  \n",
       "PassengerId                                   \n",
       "1                0  A/5 21171  7.25        S  "
      ]
     },
     "execution_count": 2,
     "metadata": {},
     "output_type": "execute_result"
    }
   ],
   "source": [
    "titanic.head(1)"
   ]
  },
  {
   "cell_type": "code",
   "execution_count": 26,
   "id": "d3fed857",
   "metadata": {},
   "outputs": [
    {
     "data": {
      "text/plain": [
       "<AxesSubplot:xlabel='Embarked', ylabel='Sex'>"
      ]
     },
     "execution_count": 26,
     "metadata": {},
     "output_type": "execute_result"
    },
    {
     "data": {
      "image/png": "[encoded data removed]",
      "text/plain": [
       "<Figure size 432x288 with 2 Axes>"
      ]
     },
     "metadata": {
      "needs_background": "light"
     },
     "output_type": "display_data"
    }
   ],
   "source": [
    "import seaborn as sns\n",
    "\n",
    "heat_data = titanic.pivot_table(index='Sex',columns='Embarked',values='Survived',aggfunc='sum')\n",
    "sns.heatmap(aa)"
   ]
  },
  {
   "cell_type": "code",
   "execution_count": 3,
   "id": "898838ef",
   "metadata": {
    "scrolled": true
   },
   "outputs": [
    {
     "data": {
      "text/html": [
       "<div>\n",
       "<style scoped>\n",
       "    .dataframe tbody tr th:only-of-type {\n",
       "        vertical-align: middle;\n",
       "    }\n",
       "\n",
       "    .dataframe tbody tr th {\n",
       "        vertical-align: top;\n",
       "    }\n",
       "\n",
       "    .dataframe thead th {\n",
       "        text-align: right;\n",
       "    }\n",
       "</style>\n",
       "<table border=\"1\" class=\"dataframe\">\n",
       "  <thead>\n",
       "    <tr style=\"text-align: right;\">\n",
       "      <th></th>\n",
       "      <th>点赞数</th>\n",
       "      <th>转发数</th>\n",
       "      <th>热度指数</th>\n",
       "      <th>文章评级</th>\n",
       "      <th>浏览量</th>\n",
       "    </tr>\n",
       "  </thead>\n",
       "  <tbody>\n",
       "    <tr>\n",
       "      <th>0</th>\n",
       "      <td>2646</td>\n",
       "      <td>1347.0</td>\n",
       "      <td>7</td>\n",
       "      <td>5</td>\n",
       "      <td>260004</td>\n",
       "    </tr>\n",
       "  </tbody>\n",
       "</table>\n",
       "</div>"
      ],
      "text/plain": [
       "    点赞数     转发数  热度指数  文章评级     浏览量\n",
       "0  2646  1347.0     7     5  260004"
      ]
     },
     "execution_count": 3,
     "metadata": {},
     "output_type": "execute_result"
    }
   ],
   "source": [
    "adv.head(1)"
   ]
  },
  {
   "cell_type": "code",
   "execution_count": 26,
   "id": "f721a394",
   "metadata": {},
   "outputs": [],
   "source": [
    "aa = ax4.bar(x= sex_num.index, height=sex_num.values)"
   ]
  },
  {
   "cell_type": "code",
   "execution_count": 28,
   "id": "b5922d17",
   "metadata": {},
   "outputs": [
    {
     "data": {
      "text/plain": [
       "[Text(0, 3, '577'), Text(0, 3, '314')]"
      ]
     },
     "execution_count": 28,
     "metadata": {},
     "output_type": "execute_result"
    }
   ],
   "source": [
    "ax.bar_label(aa, padding=3)"
   ]
  },
  {
   "cell_type": "markdown",
   "id": "8aeed844",
   "metadata": {},
   "source": [
    "# matplot绘图总结"
   ]
  },
  {
   "cell_type": "markdown",
   "id": "58b661d7",
   "metadata": {},
   "source": [
    "## 画图基本定式及基本说明"
   ]
  },
  {
   "cell_type": "markdown",
   "id": "48a49df4",
   "metadata": {},
   "source": [
    "1. seaborn绘图返回画布值，plt绘图返回图中特殊值\n",
    "2. 涉及文本设置的，都在matplotlib.text里面\n",
    "3. 注意axis作图和plt作图的区别，在使用对应方法时，axis作图一般为set_,plt作图则不需要set_"
   ]
  },
  {
   "cell_type": "markdown",
   "id": "03a98210",
   "metadata": {},
   "source": [
    "### 画布画板基本元素"
   ]
  },
  {
   "cell_type": "code",
   "execution_count": 6,
   "id": "c43a24f5",
   "metadata": {},
   "outputs": [
    {
     "data": {
      "image/png": "[encoded data removed]",
      "text/plain": [
       "<Figure size 432x288 with 1 Axes>"
      ]
     },
     "metadata": {
      "needs_background": "light"
     },
     "output_type": "display_data"
    }
   ],
   "source": [
    "import numpy as np\n",
    "import matplotlib.pyplot as plt\n",
    "import warnings\n",
    "warnings.filterwarnings('ignore')  #忽略警告类提示\n",
    "plt.rcParams['font.sans-serif'] = 'SimHei' #设置字体，让中文不为乱码\n",
    "\n",
    "sex_num = titanic['Sex'].value_counts()\n",
    "fig, ax = plt.subplots()\n",
    "\n",
    "aa = ax.barh(y = sex_num.index, width=sex_num.values)\n",
    "ax.bar_label(aa, padding=20) #让条形图上方显示标签，pandding为标签距离条形图的距离\n",
    "\n",
    "ax.spines['top'].set_visible(False)  #让画布顶部轴不可见\n",
    "ax.spines['right'].set_visible(False)  #让画布右侧轴不可见\n",
    "\n",
    "ax.set_xlabel('Count') #给x轴设置标签\n",
    "ax.set_ylabel('Sex') #给y轴设置标签\n",
    "\n",
    "ax.set_xticks(range(0, 601, 200)) #给x轴刻度设置可见值\n",
    "ax.set_yticks(['female', 'male', '中文测试']) #给y轴刻度设置可见值\n",
    "\n",
    "ax.set_title('A') #给画布添加标题 $$为斜体\n",
    "ax.set_aspect('auto')  #调整横纵单位比，默认‘auto’\n",
    "\n",
    "ax.set_axis_on()  #默认on，如果想让坐标轴消失，调用set_axis_off方法，plt控制时，使用plt.axis('off')\n",
    "plt.show()"
   ]
  },
  {
   "cell_type": "code",
   "execution_count": null,
   "id": "a5f817d8",
   "metadata": {},
   "outputs": [],
   "source": [
    "import seaborn as sns\n",
    "import matplotlib\n",
    "import matplotlib.pyplot as plt\n",
    "import matplotlib.ticker\n",
    "from matplotlib import rcParams\n",
    "plt.rcParams['lines.linestyle'] = '-.' #线条样式\n",
    "plt.rcParams['lines.linewidth'] = 3 #线条宽度\n",
    "plt.rcParams['font.sans-serif'] = 'SimHei' #设置字体\n",
    "plt.rcParams['axes.unicode_minus'] = False #字符显示\n",
    "plt.rcParams['figure.dpi'] = 20 # 图像分辨率,以点/英寸为单位设置图形的分辨率。\n",
    "rcParams['figure.figsize'] = 11, 8 #设置画板大小\n",
    "\n",
    "sns.set()\n",
    "sns.set_context(\n",
    "    \"notebook\",\n",
    "    font_scale=1.5,\n",
    "    rc={\n",
    "        \"figure.figsize\": (11, 8),\n",
    "        \"axes.titlesize\": 18\n",
    "    }\n",
    ")\n",
    "\n"
   ]
  },
  {
   "cell_type": "markdown",
   "id": "a8377b83",
   "metadata": {},
   "source": [
    "### 多个图分布到一个画板上"
   ]
  },
  {
   "cell_type": "markdown",
   "id": "43e1320d",
   "metadata": {},
   "source": [
    "方法1适用于matplotlib画图，方法2适用于seaborn画图"
   ]
  },
  {
   "cell_type": "code",
   "execution_count": 16,
   "id": "4f4b8f9f",
   "metadata": {},
   "outputs": [
    {
     "data": {
      "image/png": "[encoded data removed]",
      "text/plain": [
       "<Figure size 864x648 with 4 Axes>"
      ]
     },
     "metadata": {
      "needs_background": "light"
     },
     "output_type": "display_data"
    }
   ],
   "source": [
    "#方法1\n",
    "import numpy as np\n",
    "import matplotlib.pyplot as plt\n",
    "sex_num = titanic['Sex'].value_counts()\n",
    "fig, axes =  plt.subplots(2, 2, figsize=(12, 9)) \n",
    "'''\n",
    "画板上有 2 * 2张画布，总大小为（12 * 9）\n",
    "如果想让画布每一列上的横坐标相同，可以让sharex = True\n",
    "如果想让画布每一行上的纵坐标相同，可以让sharey = True\n",
    "很多时候如果只画一个图，可以使用fig, ax = plt.subplots()\n",
    "还有一种写法，但不建议：\n",
    "fig = plt.figure()\n",
    "ax1 = plt.subplot(221)\n",
    "ax2 = plt.subplot(222)\n",
    "ax3 = plt.subplot(223)\n",
    "ax4 = plt.subplot(224)\n",
    "'''\n",
    "ax1 = axes[0,1]\n",
    "a1 = ax1.barh(y = sex_num.index, width=sex_num.values)\n",
    "ax1.bar_label(a1, padding=3)\n",
    "\n",
    "ax3 = axes[1,1]\n",
    "a3 = ax3.bar(x= sex_num.index, height=sex_num.values)\n",
    "ax3.bar_label(a3, padding=3)\n",
    "ax3.set_yticks(range(0,600,200))\n",
    "\n",
    "plt.show()"
   ]
  },
  {
   "cell_type": "code",
   "execution_count": 45,
   "id": "f96755ff",
   "metadata": {},
   "outputs": [
    {
     "data": {
      "image/png": "[encoded data removed]",
      "text/plain": [
       "<Figure size 864x648 with 4 Axes>"
      ]
     },
     "metadata": {
      "needs_background": "light"
     },
     "output_type": "display_data"
    }
   ],
   "source": [
    "#方法2\n",
    "import numpy as np\n",
    "import matplotlib.pyplot as plt\n",
    "sex_num = titanic['Sex'].value_counts()\n",
    "fig, axes =  plt.subplots(2, 2, figsize=(12, 9)) \n",
    "'''\n",
    "画板上有 2 * 2张画布，总大小为（12 * 9）\n",
    "如果想让画布每一列上的横坐标相同，可以让sharex = True\n",
    "如果想让画布每一行上的纵坐标相同，可以让sharey = True\n",
    "很多时候如果只画一个图，可以使用fig, ax = plt.subplots()\n",
    "还有一种写法，但不建议：\n",
    "fig = plt.figure()\n",
    "ax1 = plt.subplot(221)\n",
    "ax2 = plt.subplot(222)\n",
    "ax3 = plt.subplot(223)\n",
    "ax4 = plt.subplot(224)\n",
    "'''\n",
    "plt.sca(axes[0,1])\n",
    "a1 = plt.barh(y = sex_num.index, width=sex_num.values)\n",
    "axes[0,1].bar_label(a1, padding=3)\n",
    "\n",
    "plt.sca(axes[1,1])\n",
    "a3 = plt.bar(x= sex_num.index, height=sex_num.values)\n",
    "plt.bar_label(a3, padding=3)\n",
    "plt.yticks(range(0,600,200))\n",
    "\n",
    "plt.show()"
   ]
  },
  {
   "cell_type": "markdown",
   "id": "c2560972",
   "metadata": {},
   "source": [
    "### 多个图分布到一个画布上"
   ]
  },
  {
   "cell_type": "code",
   "execution_count": 44,
   "id": "2b3c459f",
   "metadata": {
    "scrolled": true
   },
   "outputs": [
    {
     "data": {
      "image/png": "[encoded data removed]",
      "text/plain": [
       "<Figure size 432x288 with 2 Axes>"
      ]
     },
     "metadata": {
      "needs_background": "light"
     },
     "output_type": "display_data"
    }
   ],
   "source": [
    "import numpy as np\n",
    "import matplotlib.pyplot as plt\n",
    "\n",
    "fig, ax1 = plt.subplots(1, 1)             \n",
    " \n",
    "ax2 = ax1.twinx()  # 让2个子图的x轴一样，同时创建副坐标轴。\n",
    " \n",
    "# 作y=sin(x)函数\n",
    "x1 = x2 = np.linspace(0, 4 * np.pi, 100)\n",
    "y1 = np.sin(x1)\n",
    "ax1.plot(x1, y1)\n",
    " \n",
    "#  作y = cos(x)函数\n",
    "y2 = 2 * np.cos(x1)\n",
    "ax2.plot(x2, y2)\n",
    "\n",
    "plt.show()"
   ]
  },
  {
   "cell_type": "markdown",
   "id": "1f225850",
   "metadata": {},
   "source": [
    "## 单指标绘图"
   ]
  },
  {
   "cell_type": "markdown",
   "id": "70d31cb2",
   "metadata": {},
   "source": [
    "## 多指标绘图"
   ]
  },
  {
   "cell_type": "markdown",
   "id": "a326a83e",
   "metadata": {},
   "source": [
    "## 单维度绘图"
   ]
  },
  {
   "cell_type": "markdown",
   "id": "61aec418",
   "metadata": {},
   "source": [
    "## 双维度绘图"
   ]
  },
  {
   "cell_type": "markdown",
   "id": "7af09642",
   "metadata": {},
   "source": [
    "### 热力图"
   ]
  },
  {
   "cell_type": "code",
   "execution_count": 32,
   "id": "19036d31",
   "metadata": {},
   "outputs": [
    {
     "data": {
      "image/png": "[encoded data removed]",
      "text/plain": [
       "<Figure size 432x288 with 2 Axes>"
      ]
     },
     "metadata": {
      "needs_background": "light"
     },
     "output_type": "display_data"
    }
   ],
   "source": [
    "import matplotlib.pyplot as plt\n",
    "import seaborn as sns\n",
    "\n",
    "heat_data = titanic.pivot_table(index='Sex',columns='Embarked',values='Survived',aggfunc='sum')\n",
    "\n",
    "fig, ax = plt.subplots()\n",
    "plt.sca(ax)\n",
    "sns.heatmap(heat_data, cmap='RdBu_r') #cmap色谱参数见最上方链接\n",
    "plt.show()"
   ]
  },
  {
   "cell_type": "markdown",
   "id": "7c71fc92",
   "metadata": {},
   "source": [
    "# 科学计数"
   ]
  },
  {
   "cell_type": "markdown",
   "id": "4bd7ed77",
   "metadata": {},
   "source": [
    "## 无穷大、无穷小"
   ]
  },
  {
   "cell_type": "code",
   "execution_count": 23,
   "id": "763369ad",
   "metadata": {
    "scrolled": true
   },
   "outputs": [
    {
     "data": {
      "text/plain": [
       "inf"
      ]
     },
     "execution_count": 23,
     "metadata": {},
     "output_type": "execute_result"
    }
   ],
   "source": [
    "#无穷大\n",
    "float('inf')"
   ]
  },
  {
   "cell_type": "markdown",
   "id": "80d20f5c",
   "metadata": {},
   "source": [
    "## 小精度浮点数，大精度浮点数对应科学库\n",
    "小精度用math，大精度用mpmath(mpmath.mp.dps控制数字位数，含整数位）"
   ]
  },
  {
   "cell_type": "code",
   "execution_count": 6,
   "id": "86a7ecc9",
   "metadata": {
    "scrolled": true
   },
   "outputs": [
    {
     "name": "stdout",
     "output_type": "stream",
     "text": [
      "pi: 3.141592653589793\n",
      "3.1415926536\n"
     ]
    }
   ],
   "source": [
    "import math\n",
    "from mpmath import mp\n",
    "print('pi:',math.pi)\n",
    "mp.dps = 10 + 1\n",
    "print(mp.pi)"
   ]
  },
  {
   "cell_type": "markdown",
   "id": "5deceb89",
   "metadata": {},
   "source": [
    "# numpy使用注意"
   ]
  },
  {
   "cell_type": "markdown",
   "id": "3710edbf",
   "metadata": {},
   "source": [
    "## 切一行或一列时生成二维向量而不是一维向量"
   ]
  },
  {
   "cell_type": "code",
   "execution_count": 20,
   "id": "a6e08eea",
   "metadata": {},
   "outputs": [
    {
     "name": "stdout",
     "output_type": "stream",
     "text": [
      "[1 4]\n",
      "[[1]\n",
      " [4]]\n",
      "[1 2 3]\n",
      "[[1 2 3]]\n",
      "2\n",
      "[2]\n"
     ]
    }
   ],
   "source": [
    "import numpy\n",
    "import numpy\n",
    "A = np.array([[1, 2, 3],\n",
    "              [4, 5, 6]])\n",
    "print(A[:,0])\n",
    "print(A[:,[0]]) # 或者A[:,0: 1]\n",
    "print(A[0,:])\n",
    "print(A[[0],:]) # 或者A[0: 1,:]\n",
    "print(A[0,1])\n",
    "print(A[[0],[1]])"
   ]
  },
  {
   "cell_type": "markdown",
   "id": "a3fc5e04",
   "metadata": {},
   "source": [
    "## inner() 二维行向量-内积，二维列向量-张量积"
   ]
  },
  {
   "cell_type": "code",
   "execution_count": 28,
   "id": "a0ba9e09",
   "metadata": {},
   "outputs": [
    {
     "name": "stdout",
     "output_type": "stream",
     "text": [
      "[[16]]\n",
      "[[-1  0  1]\n",
      " [-2  0  2]\n",
      " [-3  0  3]]\n"
     ]
    }
   ],
   "source": [
    "import numpy as np\n",
    "\n",
    "a_row = np.array([[1, 2, 3]])\n",
    "b_row = np.array([[4, 3, 2]])\n",
    "a_dot_b = np.inner(a_row, b_row)\n",
    "print(a_dot_b)\n",
    "\n",
    "a_col = np.array([[1],  [2], [3]])\n",
    "b_col = np.array([[-1], [0], [1]])\n",
    "a_dot_b = np.inner(a_col, b_col)\n",
    "print(a_dot_b)"
   ]
  },
  {
   "cell_type": "markdown",
   "id": "2aa11a48",
   "metadata": {},
   "source": [
    "## 两个相同维度的矩阵直接通过*相乘，为哈达玛积"
   ]
  },
  {
   "cell_type": "markdown",
   "id": "db6aac67",
   "metadata": {},
   "source": [
    "## a.dot(b) or a@b都为矩阵乘法"
   ]
  },
  {
   "cell_type": "code",
   "execution_count": 29,
   "id": "4bd64e10",
   "metadata": {},
   "outputs": [
    {
     "name": "stdout",
     "output_type": "stream",
     "text": [
      "[[14]\n",
      " [32]]\n",
      "[[14]\n",
      " [32]]\n"
     ]
    }
   ],
   "source": [
    "import numpy as np\n",
    "a = np.array([[1,2,3],[4,5,6]])\n",
    "b = np.array([[1],[2],[3]])\n",
    "print(a.dot(b))\n",
    "print(a@b)"
   ]
  },
  {
   "cell_type": "markdown",
   "id": "49c38193",
   "metadata": {},
   "source": [
    "# 用streamlit开发数据科学APP"
   ]
  },
  {
   "cell_type": "markdown",
   "id": "6946bc2c",
   "metadata": {},
   "source": [
    "streamlit的官网地址：<https://docs.streamlit.io/>\n",
    "\n",
    "streamlit的github上的样例：<https://github.com/orgs/streamlit/repositories>\n",
    "## 使用方式基本说明\n",
    "1. 必须存为.py工程\n",
    "2. 需要在命令行通过`streamlit run 文件`运行，从而自动打卡本地网页，端口是8501\n",
    "3. 如果需要在页面展示图表需要用st.pyplot(fig)进行展示  （fig为plt.Figure()生成的实例对象）"
   ]
  },
  {
   "cell_type": "markdown",
   "id": "c243b00f",
   "metadata": {},
   "source": [
    "## 各功能使用方式"
   ]
  },
  {
   "cell_type": "markdown",
   "id": "9b7fed72",
   "metadata": {},
   "source": [
    "### 滑轨"
   ]
  },
  {
   "cell_type": "code",
   "execution_count": null,
   "id": "e2851d0c",
   "metadata": {},
   "outputs": [],
   "source": [
    "import streamlit as st\n",
    "with st.sidebar:\n",
    "    num_digits = st.slider('Number of decimal digits:',\n",
    "                           min_value = 10000, \n",
    "                           max_value = 100000,\n",
    "                           step = 10000)\n",
    "#num_digits接收到的就是前端拖动的最终值"
   ]
  },
  {
   "cell_type": "code",
   "execution_count": null,
   "id": "bd8cd4bd",
   "metadata": {},
   "outputs": [],
   "source": []
  },
  {
   "cell_type": "code",
   "execution_count": null,
   "id": "84d1e0ad",
   "metadata": {},
   "outputs": [],
   "source": []
  },
  {
   "cell_type": "code",
   "execution_count": null,
   "id": "d4af6f94",
   "metadata": {},
   "outputs": [],
   "source": []
  },
  {
   "cell_type": "code",
   "execution_count": null,
   "id": "8151a324",
   "metadata": {},
   "outputs": [],
   "source": []
  },
  {
   "cell_type": "code",
   "execution_count": 18,
   "id": "0b469106",
   "metadata": {},
   "outputs": [
    {
     "data": {
      "image/png": "[encoded data removed]",
      "text/plain": [
       "<Figure size 864x216 with 8 Axes>"
      ]
     },
     "metadata": {
      "needs_background": "light"
     },
     "output_type": "display_data"
    }
   ],
   "source": [
    "import numpy as np\n",
    "from matplotlib import pyplot as plt\n",
    "import seaborn as sns\n",
    "\n",
    "# Repeatability\n",
    "np.random.seed(7)\n",
    "\n",
    "# Generate matrix A and B\n",
    "m = 6\n",
    "p = 3\n",
    "n = 4\n",
    "\n",
    "A = np.random.uniform(-1,1,m*p).reshape(m, p)\n",
    "B = np.random.uniform(-1,1,p*n).reshape(p, n)\n",
    "\n",
    "C = A@B\n",
    "\n",
    "all_max = 1\n",
    "all_min = -1\n",
    "\n",
    "#%% matrix multiplication, first perspective\n",
    "\n",
    "fig, axs = plt.subplots(1, 5, figsize=(12, 3))\n",
    "\n",
    "plt.sca(axs[0])\n",
    "ax = sns.heatmap(A,cmap='RdBu_r',vmax = all_max,vmin = all_min,\n",
    "                 cbar_kws={\"orientation\": \"horizontal\"},\n",
    "                 yticklabels=np.arange(1,m+1), xticklabels=np.arange(1,p+1))\n",
    "ax.set_aspect(\"equal\")\n",
    "plt.title('$A$')\n",
    "plt.yticks(rotation=0) \n",
    "\n",
    "\n",
    "plt.sca(axs[1])\n",
    "plt.title('$@$')\n",
    "plt.axis('off')\n",
    "\n",
    "plt.sca(axs[2])\n",
    "ax = sns.heatmap(B,cmap='RdBu_r',vmax = all_max,vmin = all_min,\n",
    "                 cbar_kws={\"orientation\": \"horizontal\"},\n",
    "                 yticklabels=np.arange(1,p+1), xticklabels=np.arange(1,n+1))\n",
    "ax.set_aspect(\"equal\")\n",
    "plt.title('$B$')\n",
    "plt.yticks(rotation=0) \n",
    "\n",
    "plt.sca(axs[3])\n",
    "plt.title('$=$')\n",
    "plt.axis('off')\n",
    "\n",
    "plt.sca(axs[4])\n",
    "ax = sns.heatmap(C,cmap='RdBu_r',vmax = all_max,vmin = all_min,\n",
    "                 cbar_kws={\"orientation\": \"horizontal\"},\n",
    "                 yticklabels=np.arange(1,m+1), xticklabels=np.arange(1,n+1))\n",
    "ax.set_aspect(\"equal\")\n",
    "plt.title('$C$')\n",
    "plt.yticks(rotation=0) \n",
    "\n",
    "plt.show()"
   ]
  }
 ],
 "metadata": {
  "kernelspec": {
   "display_name": "Python 3 (ipykernel)",
   "language": "python",
   "name": "python3"
  },
  "language_info": {
   "codemirror_mode": {
    "name": "ipython",
    "version": 3
   },
   "file_extension": ".py",
   "mimetype": "text/x-python",
   "name": "python",
   "nbconvert_exporter": "python",
   "pygments_lexer": "ipython3",
   "version": "3.9.6"
  },
  "toc": {
   "base_numbering": 1,
   "nav_menu": {},
   "number_sections": true,
   "sideBar": true,
   "skip_h1_title": false,
   "title_cell": "Table of Contents",
   "title_sidebar": "Contents",
   "toc_cell": false,
   "toc_position": {},
   "toc_section_display": true,
   "toc_window_display": true
  },
  "varInspector": {
   "cols": {
    "lenName": 16,
    "lenType": 16,
    "lenVar": 40
   },
   "kernels_config": {
    "python": {
     "delete_cmd_postfix": "",
     "delete_cmd_prefix": "del ",
     "library": "var_list.py",
     "varRefreshCmd": "print(var_dic_list())"
    },
    "r": {
     "delete_cmd_postfix": ") ",
     "delete_cmd_prefix": "rm(",
     "library": "var_list.r",
     "varRefreshCmd": "cat(var_dic_list()) "
    }
   },
   "types_to_exclude": [
    "module",
    "function",
    "builtin_function_or_method",
    "instance",
    "_Feature"
   ],
   "window_display": false
  }
 },
 "nbformat": 4,
 "nbformat_minor": 5
}
